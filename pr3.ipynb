{
 "cells": [
  {
   "cell_type": "markdown",
   "id": "a052c9c1",
   "metadata": {},
   "source": [
    " Title:  Perceptron Networks\n",
    " Aim:Implement a python program for Perceptron Networks by considering the given \n",
    "scenario. A student wants to make a decision about whether to go for a movie or not \n",
    "by looking at 3 parameters using a single neuron. The three inputs are Favorite hero, \n",
    "Exam, and Climate. Each has weights and we have a bias in the perceptron. If the \n",
    "condition is true input is 1 else input is 0, weights for Favorite hero=0.2, Exam=0.4, \n",
    "and Climate=0.2 and bias=-0.5. Output is 1. The decision is to go for a \n",
    "movie.Calculate the Accuracy \n",
    "Tools: None\n",
    " Procedure:\n",
    " 1) Initialize the input vector.\n",
    " 2) Train the network weights for the perceptron.\n",
    "     DEEP LEARNING LABORATORY –AIL66/AD\n",
    " 3) Make predictions with the perceptron.\n",
    " ● import the necessary libraries\n",
    " ●Assign the input features to x\n",
    " ● Assign the target features to y\n",
    " ● Initialize the Perceptron with the appropriate number of inputs\n",
    " ● Train the model\n",
    " ● Predict from the test dataset\n",
    " ● Find the accuracy of the model"
   ]
  },
  {
   "cell_type": "code",
   "execution_count": 8,
   "id": "4dddd5fa",
   "metadata": {},
   "outputs": [
    {
     "name": "stdout",
     "output_type": "stream",
     "text": [
      "Predictions: [0 0 1 0 0]\n",
      "Accuracy: 60.0 %\n"
     ]
    }
   ],
   "source": [
    "import numpy as np\n",
    "from sklearn.linear_model import Perceptron\n",
    "from sklearn.metrics import accuracy_score\n",
    "\n",
    "# Input: [Favorite hero, Exam, Climate]\n",
    "X = np.array([\n",
    "    [1, 0, 1],  # Scenario 1\n",
    "    [0, 1, 1],  # Scenario 2\n",
    "    [1, 1, 0],  # Scenario 3\n",
    "    [0, 0, 1],  # Scenario 4\n",
    "    [1, 1, 1]   # Scenario 5\n",
    "])\n",
    "\n",
    "# Expected output (1 = Go for movie, 0 = Don't go)\n",
    "y = np.array([1, 1, 1, 0, 0])\n",
    "\n",
    "# Create and configure the Perceptron model\n",
    "model = Perceptron(max_iter=1000, eta0=1.0, fit_intercept=True)\n",
    "model.fit(X, y)\n",
    "\n",
    "# Predict using the same inputs\n",
    "y_pred = model.predict(X)\n",
    "\n",
    "# Print predictions\n",
    "print(\"Predictions:\", y_pred)\n",
    "\n",
    "# Calculate accuracy\n",
    "acc = accuracy_score(y, y_pred)\n",
    "print(\"Accuracy:\", acc * 100, \"%\")\n"
   ]
  }
 ],
 "metadata": {
  "kernelspec": {
   "display_name": "base",
   "language": "python",
   "name": "python3"
  },
  "language_info": {
   "codemirror_mode": {
    "name": "ipython",
    "version": 3
   },
   "file_extension": ".py",
   "mimetype": "text/x-python",
   "name": "python",
   "nbconvert_exporter": "python",
   "pygments_lexer": "ipython3",
   "version": "3.11.7"
  }
 },
 "nbformat": 4,
 "nbformat_minor": 5
}
