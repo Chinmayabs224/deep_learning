{
 "cells": [
  {
   "cell_type": "markdown",
   "id": "a052c9c1",
   "metadata": {},
   "source": [
    " Title:  Perceptron Networks\n",
    " Aim:Implement a python program for Perceptron Networks by considering the given \n",
    "scenario. A student wants to make a decision about whether to go for a movie or not \n",
    "by looking at 3 parameters using a single neuron. The three inputs are Favorite hero, \n",
    "Exam, and Climate. Each has weights and we have a bias in the perceptron. If the \n",
    "condition is true input is 1 else input is 0, weights for Favorite hero=0.2, Exam=0.4, \n",
    "and Climate=0.2 and bias=-0.5. Output is 1. The decision is to go for a \n",
    "movie.Calculate the Accuracy \n",
    "Tools: None\n",
    " Procedure:\n",
    " 1) Initialize the input vector.\n",
    " 2) Train the network weights for the perceptron.\n",
    "     DEEP LEARNING LABORATORY –AIL66/AD\n",
    " 3) Make predictions with the perceptron.\n",
    " ● import the necessary libraries\n",
    " ●Assign the input features to x\n",
    " ● Assign the target features to y\n",
    " ● Initialize the Perceptron with the appropriate number of inputs\n",
    " ● Train the model\n",
    " ● Predict from the test dataset\n",
    " ● Find the accuracy of the model"
   ]
  },
  {
   "cell_type": "code",
   "execution_count": 8,
   "id": "4dddd5fa",
   "metadata": {},
   "outputs": [
    {
     "name": "stdout",
     "output_type": "stream",
     "text": [
      "Predictions: [1 1 1 1 1]\n",
      "Accuracy: 80.0 %\n"
     ]
    }
   ],
   "source": [
    "import numpy as np\n",
    "from sklearn.linear_model import Perceptron\n",
    "from sklearn.metrics import accuracy_score\n",
    "\n",
    "# Input: [Favorite hero, Exam, Climate]\n",
    "X = np.array([\n",
    "    [1, 0, 1],  # Scenario 1\n",
    "    [0, 1, 1],  # Scenario 2\n",
    "    [1, 1, 0],  # Scenario 3\n",
    "    [0, 0, 1],  # Scenario 4\n",
    "    [1, 1, 1]   # Scenario 5\n",
    "])\n",
    "\n",
    "# Expected output (1 = Go for movie, 0 = Don't go)\n",
    "y = np.array([1, 1, 1, 1, 0])\n",
    "\n",
    "# Create and configure the Perceptron model\n",
    "model = Perceptron(max_iter=1000, eta0=1.0, fit_intercept=True)\n",
    "model.fit(X, y)\n",
    "\n",
    "# Predict using the same inputs\n",
    "y_pred = model.predict(X)\n",
    "\n",
    "# Print predictions\n",
    "print(\"Predictions:\", y_pred)\n",
    "\n",
    "# Calculate accuracy\n",
    "acc = accuracy_score(y, y_pred)\n",
    "print(\"Accuracy:\", acc * 100, \"%\")\n"
   ]
  },
  {
   "cell_type": "code",
   "execution_count": 1,
   "id": "ef6ac2ad",
   "metadata": {},
   "outputs": [
    {
     "name": "stdout",
     "output_type": "stream",
     "text": [
      "Requirement already satisfied: scikit-learn in c:\\users\\asus\\appdata\\local\\programs\\python\\python312\\lib\\site-packages (1.7.0)\n",
      "Requirement already satisfied: numpy>=1.22.0 in c:\\users\\asus\\appdata\\local\\programs\\python\\python312\\lib\\site-packages (from scikit-learn) (1.26.4)\n",
      "Requirement already satisfied: scipy>=1.8.0 in c:\\users\\asus\\appdata\\local\\programs\\python\\python312\\lib\\site-packages (from scikit-learn) (1.15.0)\n",
      "Requirement already satisfied: joblib>=1.2.0 in c:\\users\\asus\\appdata\\local\\programs\\python\\python312\\lib\\site-packages (from scikit-learn) (1.4.2)\n",
      "Requirement already satisfied: threadpoolctl>=3.1.0 in c:\\users\\asus\\appdata\\local\\programs\\python\\python312\\lib\\site-packages (from scikit-learn) (3.5.0)\n"
     ]
    }
   ],
   "source": [
    "!pip install scikit-learn "
   ]
  },
  {
   "cell_type": "code",
   "execution_count": 4,
   "id": "b9bb557d",
   "metadata": {},
   "outputs": [
    {
     "name": "stdout",
     "output_type": "stream",
     "text": [
      "Input\t\t Prediction\t Expected\t Result\n",
      "============================================================\n",
      "[1 0 1] \t\t0\t\t 1\t\t WRONG\n",
      "[0 1 1] \t\t1\t\t 1\t\t CORRECT\n",
      "[1 1 0] \t\t1\t\t 1\t\t CORRECT\n",
      "[0 0 1] \t\t0\t\t 0\t\t CORRECT\n",
      "[1 1 1] \t\t1\t\t 0\t\t WRONG\n",
      "\n",
      "Accuracy: 60.00%\n"
     ]
    },
    {
     "name": "stderr",
     "output_type": "stream",
     "text": [
      "c:\\Users\\ASUS\\AppData\\Local\\Programs\\Python\\Python312\\Lib\\site-packages\\sklearn\\linear_model\\_stochastic_gradient.py:726: ConvergenceWarning: Maximum number of iteration reached before convergence. Consider increasing max_iter to improve the fit.\n",
      "  warnings.warn(\n"
     ]
    }
   ],
   "source": [
    "import numpy as np\n",
    "from sklearn.linear_model import Perceptron\n",
    "from sklearn.metrics import accuracy_score\n",
    "\n",
    "# Input: [Favorite hero, Exam, Climate]\n",
    "X = np.array([\n",
    "    [1, 0, 1],  # Scenario 1\n",
    "    [0, 1, 1],  # Scenario 2\n",
    "    [1, 1, 0],  # Scenario 3\n",
    "    [0, 0, 1],  # Scenario 4\n",
    "    [1, 1, 1]   # Scenario 5\n",
    "])\n",
    "\n",
    "# Expected output (1 = Go for movie, 0 = Don't go)\n",
    "y = np.array([1, 1, 1, 0, 0])\n",
    "\n",
    "# Provided weights and bias\n",
    "weights = np.array([0.2, 0.4, 0.2])\n",
    "bias = -0.5\n",
    "\n",
    "# Create and configure the Perceptron model with minimum valid max_iter=1\n",
    "model = Perceptron(max_iter=1, fit_intercept=True, random_state=0)\n",
    "model.fit(X, y)  # Initialize model structure (minimal training)\n",
    "\n",
    "# Manually set the weights and bias\n",
    "model.coef_ = np.array([weights])  # Must be 2D array (1, n_features)\n",
    "model.intercept_ = np.array([bias])  # Must be 1D array (1,)\n",
    "\n",
    "# Predict using the same inputs\n",
    "y_pred = model.predict(X)\n",
    "\n",
    "# Print detailed results\n",
    "print(\"Input\\t\\t\", \"Prediction\\t\", \"Expected\\t\", \"Result\")\n",
    "print(\"=\"*60)\n",
    "for i in range(len(X)):\n",
    "    input_str = str(X[i])\n",
    "    pred = y_pred[i]\n",
    "    expected = y[i]\n",
    "    result = \"CORRECT\" if pred == expected else \"WRONG\"\n",
    "    print(f\"{input_str} \\t\\t{pred}\\t\\t {expected}\\t\\t {result}\")\n",
    "\n",
    "# Calculate accuracy\n",
    "acc = accuracy_score(y, y_pred)\n",
    "print(\"\\nAccuracy: {:.2f}%\".format(acc * 100))"
   ]
  }
 ],
 "metadata": {
  "kernelspec": {
   "display_name": "Python 3",
   "language": "python",
   "name": "python3"
  },
  "language_info": {
   "codemirror_mode": {
    "name": "ipython",
    "version": 3
   },
   "file_extension": ".py",
   "mimetype": "text/x-python",
   "name": "python",
   "nbconvert_exporter": "python",
   "pygments_lexer": "ipython3",
   "version": "3.12.3"
  }
 },
 "nbformat": 4,
 "nbformat_minor": 5
}
