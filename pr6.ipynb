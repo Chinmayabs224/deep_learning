{
 "cells": [
  {
   "cell_type": "markdown",
   "id": "66680b26",
   "metadata": {},
   "source": [
    " Implement in python SVM/Softmax classifier for CIFAR-10 dataset.\n",
    " Procedure:\n",
    " 1. Load the CIFAR-10\n",
    " 2. Preprocess the data\n",
    " a. Normalize the pixel values to be between 0 and 1.\n",
    " b. Convert the class labels to one-hot encoded vectors.\n",
    " 3. Build the model\n",
    " 4. Train the data with SVM classifier\n",
    " 5. Train the data with   Softmax classifier using KNN\n",
    " 6. Make predictions with the SVM/Softmax classifier.\n",
    "     DE"
   ]
  },
  {
   "cell_type": "code",
   "execution_count": null,
   "id": "e5908066",
   "metadata": {},
   "outputs": [
    {
     "name": "stdout",
     "output_type": "stream",
     "text": [
      "Training Accuracy: 0.4474\n",
      "Test Accuracy: 0.3770\n"
     ]
    }
   ],
   "source": [
    "import numpy as np\n",
    "from sklearn import svm\n",
    "from sklearn.preprocessing import LabelBinarizer\n",
    "from sklearn.metrics import accuracy_score\n",
    "# from tensorflow.keras.datasets import cifar10\n",
    "\n",
    "# 1. Load CIFAR-10\n",
    "(X_train, y_train), (X_test, y_test) = cifar10.load_data()\n",
    "\n",
    "# 2. Preprocess data\n",
    "# a. Normalize pixel values\n",
    "X_train = X_train.astype('float32') / 255.0\n",
    "X_test = X_test.astype('float32') / 255.0\n",
    "\n",
    "# Flatten images (32x32x3 -> 3072)\n",
    "X_train = X_train.reshape(X_train.shape[0], -1)\n",
    "X_test = X_test.reshape(X_test.shape[0], -1)\n",
    "\n",
    "# b. Convert labels to one-hot (not needed for SVM but included as per requirement)\n",
    "lb = LabelBinarizer()\n",
    "y_train_onehot = lb.fit_transform(y_train)\n",
    "y_test_onehot = lb.transform(y_test)\n",
    "\n",
    "# For SVM we use original labels (not one-hot)\n",
    "y_train = y_train.ravel()\n",
    "y_test = y_test.ravel()\n",
    "\n",
    "# 3. Build and 4. Train SVM classifier\n",
    "# Using linear SVM for efficiency (for exam purposes)\n",
    "svm_clf = svm.LinearSVC(max_iter=10000, C=1.0)\n",
    "svm_clf.fit(X_train, y_train)\n",
    "\n",
    "# 6. Make predictions\n",
    "train_pred = svm_clf.predict(X_train)\n",
    "test_pred = svm_clf.predict(X_test)\n",
    "\n",
    "# Calculate accuracy\n",
    "train_acc = accuracy_score(y_train, train_pred)\n",
    "test_acc = accuracy_score(y_test, test_pred)\n",
    "\n",
    "print(f\"Training Accuracy: {train_acc:.4f}\")\n",
    "print(f\"Test Accuracy: {test_acc:.4f}\")"
   ]
  },
  {
   "cell_type": "code",
   "execution_count": 2,
   "id": "ed2bcb18",
   "metadata": {},
   "outputs": [
    {
     "name": "stdout",
     "output_type": "stream",
     "text": [
      "Training Accuracy: 0.5696\n",
      "Test Accuracy: 0.3960\n"
     ]
    }
   ],
   "source": [
    "import numpy as np\n",
    "from sklearn import svm\n",
    "from sklearn.metrics import accuracy_score\n",
    "from sklearn.decomposition import PCA\n",
    "from sklearn.preprocessing import StandardScaler\n",
    "from sklearn.pipeline import make_pipeline\n",
    "from tensorflow.keras.datasets import cifar10\n",
    "\n",
    "# Load data\n",
    "(X_train, y_train), (X_test, y_test) = cifar10.load_data()\n",
    "\n",
    "# Preprocess\n",
    "X_train = X_train.reshape(X_train.shape[0], -1).astype('float32') / 255.0\n",
    "X_test = X_test.reshape(X_test.shape[0], -1).astype('float32') / 255.0\n",
    "y_train, y_test = y_train.ravel(), y_test.ravel()\n",
    "\n",
    "# Create pipeline with standardization, PCA and RBF SVM\n",
    "pipeline = make_pipeline(\n",
    "    StandardScaler(),  # Standardize features\n",
    "    PCA(n_components=100, whiten=True),  # Reduce to top 100 components\n",
    "    svm.SVC(C=10, kernel='rbf', gamma=0.001, random_state=42)  # RBF kernel\n",
    ")\n",
    "\n",
    "# Train on smaller subset for demo (remove [::10] for full training)\n",
    "pipeline.fit(X_train[::10], y_train[::10])\n",
    "\n",
    "# Evaluate\n",
    "train_pred = pipeline.predict(X_train[::10])\n",
    "test_pred = pipeline.predict(X_test[::10])\n",
    "\n",
    "print(f\"Training Accuracy: {accuracy_score(y_train[::10], train_pred):.4f}\")\n",
    "print(f\"Test Accuracy: {accuracy_score(y_test[::10], test_pred):.4f}\")"
   ]
  },
  {
   "cell_type": "code",
   "execution_count": 1,
   "id": "b442ee5d",
   "metadata": {},
   "outputs": [
    {
     "name": "stderr",
     "output_type": "stream",
     "text": [
      "c:\\Users\\ASUS\\AppData\\Local\\Programs\\Python\\Python312\\Lib\\site-packages\\keras\\src\\layers\\convolutional\\base_conv.py:107: UserWarning: Do not pass an `input_shape`/`input_dim` argument to a layer. When using Sequential models, prefer using an `Input(shape)` object as the first layer in the model instead.\n",
      "  super().__init__(activity_regularizer=activity_regularizer, **kwargs)\n"
     ]
    },
    {
     "name": "stdout",
     "output_type": "stream",
     "text": [
      "Epoch 1/10\n",
      "\u001b[1m782/782\u001b[0m \u001b[32m━━━━━━━━━━━━━━━━━━━━\u001b[0m\u001b[37m\u001b[0m \u001b[1m12s\u001b[0m 13ms/step - accuracy: 0.3882 - loss: 1.6822 - val_accuracy: 0.5769 - val_loss: 1.1951\n",
      "Epoch 2/10\n",
      "\u001b[1m782/782\u001b[0m \u001b[32m━━━━━━━━━━━━━━━━━━━━\u001b[0m\u001b[37m\u001b[0m \u001b[1m10s\u001b[0m 13ms/step - accuracy: 0.5903 - loss: 1.1615 - val_accuracy: 0.6268 - val_loss: 1.0644\n",
      "Epoch 3/10\n",
      "\u001b[1m782/782\u001b[0m \u001b[32m━━━━━━━━━━━━━━━━━━━━\u001b[0m\u001b[37m\u001b[0m \u001b[1m10s\u001b[0m 13ms/step - accuracy: 0.6516 - loss: 0.9979 - val_accuracy: 0.6524 - val_loss: 1.0074\n",
      "Epoch 4/10\n",
      "\u001b[1m782/782\u001b[0m \u001b[32m━━━━━━━━━━━━━━━━━━━━\u001b[0m\u001b[37m\u001b[0m \u001b[1m10s\u001b[0m 13ms/step - accuracy: 0.6918 - loss: 0.8941 - val_accuracy: 0.6828 - val_loss: 0.9173\n",
      "Epoch 5/10\n",
      "\u001b[1m782/782\u001b[0m \u001b[32m━━━━━━━━━━━━━━━━━━━━\u001b[0m\u001b[37m\u001b[0m \u001b[1m10s\u001b[0m 13ms/step - accuracy: 0.7233 - loss: 0.7960 - val_accuracy: 0.6806 - val_loss: 0.9270\n",
      "Epoch 6/10\n",
      "\u001b[1m782/782\u001b[0m \u001b[32m━━━━━━━━━━━━━━━━━━━━\u001b[0m\u001b[37m\u001b[0m \u001b[1m10s\u001b[0m 13ms/step - accuracy: 0.7488 - loss: 0.7251 - val_accuracy: 0.6903 - val_loss: 0.8979\n",
      "Epoch 7/10\n",
      "\u001b[1m782/782\u001b[0m \u001b[32m━━━━━━━━━━━━━━━━━━━━\u001b[0m\u001b[37m\u001b[0m \u001b[1m10s\u001b[0m 13ms/step - accuracy: 0.7777 - loss: 0.6499 - val_accuracy: 0.6998 - val_loss: 0.8903\n",
      "Epoch 8/10\n",
      "\u001b[1m782/782\u001b[0m \u001b[32m━━━━━━━━━━━━━━━━━━━━\u001b[0m\u001b[37m\u001b[0m \u001b[1m10s\u001b[0m 12ms/step - accuracy: 0.7999 - loss: 0.5837 - val_accuracy: 0.7122 - val_loss: 0.8665\n",
      "Epoch 9/10\n",
      "\u001b[1m782/782\u001b[0m \u001b[32m━━━━━━━━━━━━━━━━━━━━\u001b[0m\u001b[37m\u001b[0m \u001b[1m10s\u001b[0m 13ms/step - accuracy: 0.8193 - loss: 0.5250 - val_accuracy: 0.6951 - val_loss: 0.9566\n",
      "Epoch 10/10\n",
      "\u001b[1m782/782\u001b[0m \u001b[32m━━━━━━━━━━━━━━━━━━━━\u001b[0m\u001b[37m\u001b[0m \u001b[1m10s\u001b[0m 13ms/step - accuracy: 0.8424 - loss: 0.4577 - val_accuracy: 0.7105 - val_loss: 0.9071\n"
     ]
    },
    {
     "data": {
      "image/png": "[encoded data removed]",
      "text/plain": [
       "<Figure size 640x480 with 1 Axes>"
      ]
     },
     "metadata": {},
     "output_type": "display_data"
    },
    {
     "name": "stdout",
     "output_type": "stream",
     "text": [
      "\u001b[1m1/1\u001b[0m \u001b[32m━━━━━━━━━━━━━━━━━━━━\u001b[0m\u001b[37m\u001b[0m \u001b[1m0s\u001b[0m 70ms/step\n",
      "Predicted class: airplane\n",
      "Confidence: 70.28%\n"
     ]
    }
   ],
   "source": [
    "import tensorflow as tf\n",
    "import numpy as np\n",
    "import matplotlib.pyplot as plt\n",
    "from tensorflow.keras.datasets import cifar10\n",
    "from tensorflow.keras.utils import to_categorical\n",
    "\n",
    "# Load and preprocess data\n",
    "(x_train, y_train), (x_test, y_test) = cifar10.load_data()\n",
    "classes = [\"airplane\", \"automobile\", \"bird\", \"cat\", \"deer\", \"dog\", \"frog\", \"horse\", \"ship\", \"truck\"]\n",
    "\n",
    "# Normalize and one-hot encode\n",
    "X_train, X_test = x_train/255.0, x_test/255.0\n",
    "y_train, y_test = to_categorical(y_train), to_categorical(y_test)\n",
    "\n",
    "# Improved model architecture\n",
    "model = tf.keras.Sequential([\n",
    "    tf.keras.layers.Conv2D(32, (3,3), activation='relu', input_shape=(32,32,3)),\n",
    "    tf.keras.layers.MaxPooling2D(2,2),\n",
    "    tf.keras.layers.Conv2D(64, (3,3), activation='relu'),\n",
    "    tf.keras.layers.MaxPooling2D(2,2),\n",
    "    tf.keras.layers.Flatten(),\n",
    "    tf.keras.layers.Dense(128, activation='relu'),\n",
    "    tf.keras.layers.Dense(10, activation='softmax')\n",
    "])\n",
    "\n",
    "# Compile with learning rate schedule\n",
    "model.compile(optimizer=tf.keras.optimizers.Adam(0.001),\n",
    "              loss='categorical_crossentropy',\n",
    "              metrics=['accuracy'])\n",
    "\n",
    "# Train with early stopping\n",
    "history = model.fit(X_train, y_train, \n",
    "                    epochs=10, \n",
    "                    batch_size=64, \n",
    "                    validation_data=(X_test, y_test),\n",
    "                    verbose=1)\n",
    "\n",
    "# Prediction example (unchanged from original)\n",
    "new_img = x_test[10]\n",
    "plt.imshow(new_img)\n",
    "plt.axis(\"off\")\n",
    "plt.show()\n",
    "\n",
    "img = np.expand_dims(new_img/255.0, axis=0)\n",
    "pred = model.predict(img)\n",
    "prediction = np.argmax(pred)\n",
    "print(f\"Predicted class: {classes[prediction]}\")\n",
    "print(f\"Confidence: {np.max(pred)*100:.2f}%\")"
   ]
  }
 ],
 "metadata": {
  "kernelspec": {
   "display_name": "Python 3",
   "language": "python",
   "name": "python3"
  },
  "language_info": {
   "codemirror_mode": {
    "name": "ipython",
    "version": 3
   },
   "file_extension": ".py",
   "mimetype": "text/x-python",
   "name": "python",
   "nbconvert_exporter": "python",
   "pygments_lexer": "ipython3",
   "version": "3.12.3"
  }
 },
 "nbformat": 4,
 "nbformat_minor": 5
}
