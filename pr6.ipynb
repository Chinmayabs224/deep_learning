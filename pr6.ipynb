{
 "cells": [
  {
   "cell_type": "markdown",
   "id": "66680b26",
   "metadata": {},
   "source": [
    " Implement in python SVM/Softmax classifier for CIFAR-10 dataset.\n",
    " Procedure:\n",
    " 1. Load the CIFAR-10\n",
    " 2. Preprocess the data\n",
    " a. Normalize the pixel values to be between 0 and 1.\n",
    " b. Convert the class labels to one-hot encoded vectors.\n",
    " 3. Build the model\n",
    " 4. Train the data with SVM classifier\n",
    " 5. Train the data with   Softmax classifier using KNN\n",
    " 6. Make predictions with the SVM/Softmax classifier.\n",
    "     DE"
   ]
  },
  {
   "cell_type": "code",
   "execution_count": null,
   "id": "e5908066",
   "metadata": {},
   "outputs": [
    {
     "name": "stdout",
     "output_type": "stream",
     "text": [
      "Training Accuracy: 0.4474\n",
      "Test Accuracy: 0.3770\n"
     ]
    }
   ],
   "source": [
    "import numpy as np\n",
    "from sklearn import svm\n",
    "from sklearn.preprocessing import LabelBinarizer\n",
    "from sklearn.metrics import accuracy_score\n",
    "# from tensorflow.keras.datasets import cifar10\n",
    "\n",
    "# 1. Load CIFAR-10\n",
    "(X_train, y_train), (X_test, y_test) = cifar10.load_data()\n",
    "\n",
    "# 2. Preprocess data\n",
    "# a. Normalize pixel values\n",
    "X_train = X_train.astype('float32') / 255.0\n",
    "X_test = X_test.astype('float32') / 255.0\n",
    "\n",
    "# Flatten images (32x32x3 -> 3072)\n",
    "X_train = X_train.reshape(X_train.shape[0], -1)\n",
    "X_test = X_test.reshape(X_test.shape[0], -1)\n",
    "\n",
    "# b. Convert labels to one-hot (not needed for SVM but included as per requirement)\n",
    "lb = LabelBinarizer()\n",
    "y_train_onehot = lb.fit_transform(y_train)\n",
    "y_test_onehot = lb.transform(y_test)\n",
    "\n",
    "# For SVM we use original labels (not one-hot)\n",
    "y_train = y_train.ravel()\n",
    "y_test = y_test.ravel()\n",
    "\n",
    "# 3. Build and 4. Train SVM classifier\n",
    "# Using linear SVM for efficiency (for exam purposes)\n",
    "svm_clf = svm.LinearSVC(max_iter=10000, C=1.0)\n",
    "svm_clf.fit(X_train, y_train)\n",
    "\n",
    "# 6. Make predictions\n",
    "train_pred = svm_clf.predict(X_train)\n",
    "test_pred = svm_clf.predict(X_test)\n",
    "\n",
    "# Calculate accuracy\n",
    "train_acc = accuracy_score(y_train, train_pred)\n",
    "test_acc = accuracy_score(y_test, test_pred)\n",
    "\n",
    "print(f\"Training Accuracy: {train_acc:.4f}\")\n",
    "print(f\"Test Accuracy: {test_acc:.4f}\")"
   ]
  },
  {
   "cell_type": "code",
   "execution_count": 2,
   "id": "ed2bcb18",
   "metadata": {},
   "outputs": [
    {
     "name": "stdout",
     "output_type": "stream",
     "text": [
      "Training Accuracy: 0.5696\n",
      "Test Accuracy: 0.3960\n"
     ]
    }
   ],
   "source": [
    "import numpy as np\n",
    "from sklearn import svm\n",
    "from sklearn.metrics import accuracy_score\n",
    "from sklearn.decomposition import PCA\n",
    "from sklearn.preprocessing import StandardScaler\n",
    "from sklearn.pipeline import make_pipeline\n",
    "from tensorflow.keras.datasets import cifar10\n",
    "\n",
    "# Load data\n",
    "(X_train, y_train), (X_test, y_test) = cifar10.load_data()\n",
    "\n",
    "# Preprocess\n",
    "X_train = X_train.reshape(X_train.shape[0], -1).astype('float32') / 255.0\n",
    "X_test = X_test.reshape(X_test.shape[0], -1).astype('float32') / 255.0\n",
    "y_train, y_test = y_train.ravel(), y_test.ravel()\n",
    "\n",
    "# Create pipeline with standardization, PCA and RBF SVM\n",
    "pipeline = make_pipeline(\n",
    "    StandardScaler(),  # Standardize features\n",
    "    PCA(n_components=100, whiten=True),  # Reduce to top 100 components\n",
    "    svm.SVC(C=10, kernel='rbf', gamma=0.001, random_state=42)  # RBF kernel\n",
    ")\n",
    "\n",
    "# Train on smaller subset for demo (remove [::10] for full training)\n",
    "pipeline.fit(X_train[::10], y_train[::10])\n",
    "\n",
    "# Evaluate\n",
    "train_pred = pipeline.predict(X_train[::10])\n",
    "test_pred = pipeline.predict(X_test[::10])\n",
    "\n",
    "print(f\"Training Accuracy: {accuracy_score(y_train[::10], train_pred):.4f}\")\n",
    "print(f\"Test Accuracy: {accuracy_score(y_test[::10], test_pred):.4f}\")"
   ]
  }
 ],
 "metadata": {
  "kernelspec": {
   "display_name": "Python 3",
   "language": "python",
   "name": "python3"
  },
  "language_info": {
   "codemirror_mode": {
    "name": "ipython",
    "version": 3
   },
   "file_extension": ".py",
   "mimetype": "text/x-python",
   "name": "python",
   "nbconvert_exporter": "python",
   "pygments_lexer": "ipython3",
   "version": "3.12.3"
  }
 },
 "nbformat": 4,
 "nbformat_minor": 5
}
